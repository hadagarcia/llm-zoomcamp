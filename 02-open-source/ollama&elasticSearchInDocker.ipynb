{
 "cells": [
  {
   "cell_type": "markdown",
   "id": "f5219716-9fc9-426b-a9be-501e373a6835",
   "metadata": {},
   "source": [
    "#%% [markdown]\n",
    "\n",
    " # Using Ollama with OpenAI's API and Elastic Search in Docker\n",
    " To run the Llama3 model in a docker container on localhost:11434, you can use Ollama locally.\n",
    " Check the docker-compose.yml file for more details."
   ]
  },
  {
   "cell_type": "code",
   "execution_count": null,
   "id": "42dc7a43-e854-401b-868e-d5990715a4b6",
   "metadata": {},
   "outputs": [],
   "source": [
    "#%%\n",
    "\n",
    "# # Import the required libraries\n",
    "import requests, json\n",
    "from elasticsearch import Elasticsearch\n",
    "from tqdm.auto import tqdm\n",
    "from openai import OpenAI # Remember to install openai using !pip install openai\n",
    "\n",
    "url_data = 'https://raw.githubusercontent.com/DataTalksClub/llm-zoomcamp/main/01-intro/documents.json'\n",
    "r_data = requests.get(url_data)\n",
    "\n",
    "# Assuming you want to save the content of the URL to a file named 'documents.json' in the current directory\n",
    "with open('documents.json', 'wb') as f:\n",
    "    f.write(r_data.content)"
   ]
  },
  {
   "cell_type": "code",
   "execution_count": null,
   "id": "e04b1024-9921-4e32-a1ed-1571c661adf1",
   "metadata": {},
   "outputs": [],
   "source": [
    "# %%\n",
    "\n",
    "# # Load json data and index by text and keyword fields\n",
    "with open('documents.json', 'rt') as f_in:\n",
    "    docs_raw = json.load(f_in)\n",
    "    \n",
    "documents = []\n",
    "for course_dict in docs_raw:\n",
    "    course_name = course_dict['course']\n",
    "    for doc in course_dict['documents']:\n",
    "        doc['course'] = course_name\n",
    "        documents.append(doc)"
   ]
  },
  {
   "cell_type": "code",
   "execution_count": null,
   "id": "f15fa604-3d29-463a-b225-50bbc5a59751",
   "metadata": {},
   "outputs": [
    {
     "name": "stdout",
     "output_type": "stream",
     "text": [
      "{'name': 'd3982208c9df', 'cluster_name': 'docker-cluster', 'cluster_uuid': 'A_lySVJ7SbqwtoKOrxq2Rw', 'version': {'number': '8.4.3', 'build_flavor': 'default', 'build_type': 'docker', 'build_hash': '42f05b9372a9a4a470db3b52817899b99a76ee73', 'build_date': '2022-10-04T07:17:24.662462378Z', 'build_snapshot': False, 'lucene_version': '9.3.0', 'minimum_wire_compatibility_version': '7.17.0', 'minimum_index_compatibility_version': '7.0.0'}, 'tagline': 'You Know, for Search'}\n"
     ]
    }
   ],
   "source": [
    "#%%\n",
    "\n",
    "# Using Elastic Search\n",
    "from elasticsearch import Elasticsearch\n",
    "\n",
    "es_client = Elasticsearch('http://localhost:9200')\n",
    "print(es_client.info())"
   ]
  },
  {
   "cell_type": "code",
   "execution_count": null,
   "id": "8f7c4366-f161-4e0c-920f-c4802ab940d0",
   "metadata": {},
   "outputs": [
    {
     "name": "stderr",
     "output_type": "stream",
     "text": [
      "<ipython-input-16-59d66b8908cc>:19: DeprecationWarning: Passing transport options in the API method is deprecated. Use 'Elasticsearch.options()' instead.\n",
      "  es_client.indices.delete(index=index_name, ignore=[400, 404]) # Maybe this works.\n",
      "100%|██████████| 948/948 [01:01<00:00, 15.40it/s]\n"
     ]
    }
   ],
   "source": [
    "# %%\n",
    "\n",
    "# Index the documents\n",
    "index_settings = {\n",
    "    \"settings\": {\n",
    "        \"number_of_shards\": 1,\n",
    "        \"number_of_replicas\": 0\n",
    "    },\n",
    "    \"mappings\": {\n",
    "        \"properties\": {\n",
    "            \"text\": {\"type\": \"text\"},\n",
    "            \"section\": {\"type\": \"text\"},\n",
    "            \"question\": {\"type\": \"text\"},\n",
    "            \"course\": {\"type\": \"keyword\"} \n",
    "        }\n",
    "    }\n",
    "}\n",
    "\n",
    "index_name = \"course-questions\"\n",
    "es_client.indices.delete(index=index_name, ignore=[400, 404]) # Maybe this works.\n",
    "es_client.indices.create(index=index_name, body=index_settings)\n",
    "\n",
    "for doc in tqdm(documents):\n",
    "    es_client.index(index=index_name, body=doc)"
   ]
  },
  {
   "cell_type": "code",
   "execution_count": null,
   "id": "d96b2c80-4d40-4164-8918-e7f063bf2a64",
   "metadata": {},
   "outputs": [],
   "source": [
    "# %%\n",
    "\n",
    "# Query using elasticsearch\n",
    "def elastic_search(query):\n",
    "    search_query = {\n",
    "        \"size\": 5,\n",
    "        \"query\": {\n",
    "            \"bool\": {\n",
    "                \"must\": {\n",
    "                    \"multi_match\": {\n",
    "                        \"query\": query,\n",
    "                        \"fields\": [\"question^3\", \"text\", \"section\"], #^3 to give priority to the question field\n",
    "                        \"type\": \"best_fields\"\n",
    "                    }\n",
    "                },\n",
    "                \"filter\": {\n",
    "                    \"term\": {\n",
    "                        \"course\": \"data-engineering-zoomcamp\"\n",
    "                    }\n",
    "                }\n",
    "            }\n",
    "        }\n",
    "    }\n",
    "\n",
    "    response = es_client.search(index=index_name, body=search_query)\n",
    "    result_docs = []\n",
    "    \n",
    "    for hit in response['hits']['hits']:\n",
    "        result_docs.append(hit['_source'])\n",
    "    \n",
    "    return result_docs"
   ]
  },
  {
   "cell_type": "code",
   "execution_count": null,
   "id": "60bdf1d0-d2e7-43db-8e6c-9602e899e654",
   "metadata": {},
   "outputs": [],
   "source": [
    "# %%\n",
    "\n",
    "# Define the build prompt method\n",
    "def build_prompt(query, search_results):\n",
    "    prompt_template = \"\"\"\n",
    "    You're a course teaching assistant. Answer the QUESTION based on the CONTEXT from the FAQ database.\n",
    "    Use only the facts from the CONTEXT when answering the QUESTION.\n",
    "\n",
    "    QUESTION: {question}\n",
    "\n",
    "    CONTEXT: \n",
    "    {context}\n",
    "    \"\"\".strip()\n",
    "\n",
    "    context = \"\"\n",
    "    \n",
    "    for doc in search_results:\n",
    "        context = context + f\"section: {doc['section']}\\nquestion: {doc['question']}\\nanswer: {doc['text']}\\n\\n\"\n",
    "    \n",
    "    prompt = prompt_template.format(question=query, context=context).strip()\n",
    "    return prompt"
   ]
  },
  {
   "cell_type": "code",
   "execution_count": null,
   "id": "4b33484a-f8c1-40aa-b2ab-36615659946f",
   "metadata": {},
   "outputs": [],
   "source": [
    "#%%\n",
    "\n",
    "# Define OpenAI API client\n",
    "client = OpenAI(\n",
    "    base_url='http://localhost:11434/v1/',\n",
    "    api_key='ollama',\n",
    ")"
   ]
  },
  {
   "cell_type": "code",
   "execution_count": null,
   "id": "f3f95699-eaae-4af8-9ceb-bb56e59fc7a5",
   "metadata": {},
   "outputs": [],
   "source": [
    "#%%\n",
    "\n",
    "# Define the LLM api call\n",
    "def llm(prompt):\n",
    "    response = client.chat.completions.create(\n",
    "        model='llama3',\n",
    "        messages=[{\"role\": \"user\", \"content\": prompt}]\n",
    "    )\n",
    "    \n",
    "    return response.choices[0].message.content"
   ]
  },
  {
   "cell_type": "code",
   "execution_count": null,
   "id": "57c2e9da-2500-4d76-92aa-996107468104",
   "metadata": {},
   "outputs": [],
   "source": [
    "#%%\n",
    "\n",
    "# Define the RAG method\n",
    "def rag(query):\n",
    "    search_results = elastic_search(query)\n",
    "    prompt = build_prompt(query, search_results)\n",
    "    answer = llm(prompt)\n",
    "    return answer"
   ]
  },
  {
   "cell_type": "code",
   "execution_count": null,
   "id": "904d4d2a-53b0-4867-8d0d-e39cbe7b0655",
   "metadata": {},
   "outputs": [
    {
     "name": "stdout",
     "output_type": "stream",
     "text": [
      "Answer from Llama3 with finetuning:\n",
      " According to the FAQ, yes, you can still join the course even after the start date. Just be aware of the deadlines for turning in final projects and don't leave everything until the last minute!\n"
     ]
    }
   ],
   "source": [
    "#%%\n",
    "\n",
    "# Test the RAG method\n",
    "query = \"I just found out about this course, can I still join?\"\n",
    "print(f\"Answer from Llama3 with finetuning:\\n {rag(query)}\")"
   ]
  },
  {
   "cell_type": "markdown",
   "id": "01a79d05-19b9-4482-a926-ab0890bc12aa",
   "metadata": {},
   "source": [
    "#%% [markdown]\n",
    "\n",
    " Useful links to use Ollama and ElasticSearch in Docker:\n",
    " - [Ollama](https://hub.docker.com/r/ollama/ollama)\n",
    " - [ElasticSearch](https://hub.docker.com/_/elasticsearch)\n",
    " - [Podman Compose](https://podman-desktop.io/docs/compose/running-compose)"
   ]
  }
 ],
 "metadata": {
  "language_info": {
   "codemirror_mode": {
    "name": "ipython",
    "version": 3
   },
   "file_extension": ".py",
   "mimetype": "text/x-python",
   "name": "python",
   "nbconvert_exporter": "python",
   "pygments_lexer": "ipython3",
   "version": 3
  }
 },
 "nbformat": 4,
 "nbformat_minor": 2
}
